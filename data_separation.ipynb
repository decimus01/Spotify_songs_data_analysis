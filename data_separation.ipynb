{
 "cells": [
  {
   "cell_type": "markdown",
   "id": "d485a99a-020e-49f8-9dae-6383f04b0abd",
   "metadata": {},
   "source": [
    "# Data separation"
   ]
  },
  {
   "cell_type": "markdown",
   "id": "0c4ebe54-6221-43c7-8b3f-1d1b533939e7",
   "metadata": {},
   "source": [
    "## Import libraries"
   ]
  },
  {
   "cell_type": "code",
   "execution_count": 1,
   "id": "5f18e5e8-bb85-4b09-ac05-286d3a6aa789",
   "metadata": {},
   "outputs": [],
   "source": [
    "import pandas as pd"
   ]
  },
  {
   "cell_type": "markdown",
   "id": "6cf19e94-8616-4dbc-956a-6493716a8561",
   "metadata": {},
   "source": [
    "## Creating data frames"
   ]
  },
  {
   "cell_type": "code",
   "execution_count": 2,
   "id": "0e58f79a-d42c-46e0-b252-63d8763c06b3",
   "metadata": {},
   "outputs": [],
   "source": [
    "spotify = pd.DataFrame()\n",
    "songlist = pd.DataFrame()\n",
    "songdetails = pd.DataFrame()\n",
    "songdailyrank = pd.DataFrame()"
   ]
  },
  {
   "cell_type": "code",
   "execution_count": 3,
   "id": "a0c515f8-8e50-4eef-9a83-e862a6dc40fc",
   "metadata": {},
   "outputs": [],
   "source": [
    "#header = ['spotify_id', 'name', 'artists', 'daily_rank', 'daily_movement', 'weekly_movement', 'country', 'snapshot_date', 'popularity', 'is_explicit', 'duration_ms', 'album_name', 'album_release_date', 'danceability', 'energy', 'key', 'loudness', 'mode', 'speechiness', 'acousticness', 'instrumentalness', 'liveness', 'valence', 'tempo', 'time_signature']\n"
   ]
  },
  {
   "cell_type": "markdown",
   "id": "586c562a-d936-4f95-916b-ca95692d2ef0",
   "metadata": {},
   "source": [
    "## Reading data"
   ]
  },
  {
   "cell_type": "code",
   "execution_count": 4,
   "id": "f3b84b76-1e72-4511-a2ca-c6bd7451b458",
   "metadata": {},
   "outputs": [
    {
     "data": {
      "text/html": [
       "<div>\n",
       "<style scoped>\n",
       "    .dataframe tbody tr th:only-of-type {\n",
       "        vertical-align: middle;\n",
       "    }\n",
       "\n",
       "    .dataframe tbody tr th {\n",
       "        vertical-align: top;\n",
       "    }\n",
       "\n",
       "    .dataframe thead th {\n",
       "        text-align: right;\n",
       "    }\n",
       "</style>\n",
       "<table border=\"1\" class=\"dataframe\">\n",
       "  <thead>\n",
       "    <tr style=\"text-align: right;\">\n",
       "      <th></th>\n",
       "      <th>spotify_id</th>\n",
       "      <th>name</th>\n",
       "      <th>artists</th>\n",
       "      <th>daily_rank</th>\n",
       "      <th>daily_movement</th>\n",
       "      <th>weekly_movement</th>\n",
       "      <th>country</th>\n",
       "      <th>snapshot_date</th>\n",
       "      <th>popularity</th>\n",
       "      <th>is_explicit</th>\n",
       "      <th>...</th>\n",
       "      <th>key</th>\n",
       "      <th>loudness</th>\n",
       "      <th>mode</th>\n",
       "      <th>speechiness</th>\n",
       "      <th>acousticness</th>\n",
       "      <th>instrumentalness</th>\n",
       "      <th>liveness</th>\n",
       "      <th>valence</th>\n",
       "      <th>tempo</th>\n",
       "      <th>time_signature</th>\n",
       "    </tr>\n",
       "  </thead>\n",
       "  <tbody>\n",
       "    <tr>\n",
       "      <th>0</th>\n",
       "      <td>2OzhQlSqBEmt7hmkYxfT6m</td>\n",
       "      <td>Fortnight (feat. Post Malone)</td>\n",
       "      <td>Taylor Swift, Post Malone</td>\n",
       "      <td>1</td>\n",
       "      <td>0</td>\n",
       "      <td>49</td>\n",
       "      <td>NaN</td>\n",
       "      <td>2024-04-28</td>\n",
       "      <td>93</td>\n",
       "      <td>False</td>\n",
       "      <td>...</td>\n",
       "      <td>11</td>\n",
       "      <td>-10.895</td>\n",
       "      <td>1</td>\n",
       "      <td>0.0245</td>\n",
       "      <td>0.499000</td>\n",
       "      <td>0.000006</td>\n",
       "      <td>0.0939</td>\n",
       "      <td>0.319</td>\n",
       "      <td>95.988</td>\n",
       "      <td>4</td>\n",
       "    </tr>\n",
       "    <tr>\n",
       "      <th>1</th>\n",
       "      <td>2qSkIjg1o9h3YT9RAgYN75</td>\n",
       "      <td>Espresso</td>\n",
       "      <td>Sabrina Carpenter</td>\n",
       "      <td>2</td>\n",
       "      <td>0</td>\n",
       "      <td>48</td>\n",
       "      <td>NaN</td>\n",
       "      <td>2024-04-28</td>\n",
       "      <td>94</td>\n",
       "      <td>True</td>\n",
       "      <td>...</td>\n",
       "      <td>0</td>\n",
       "      <td>-5.486</td>\n",
       "      <td>1</td>\n",
       "      <td>0.0293</td>\n",
       "      <td>0.133000</td>\n",
       "      <td>0.000012</td>\n",
       "      <td>0.1970</td>\n",
       "      <td>0.661</td>\n",
       "      <td>103.982</td>\n",
       "      <td>4</td>\n",
       "    </tr>\n",
       "    <tr>\n",
       "      <th>2</th>\n",
       "      <td>2GxrNKugF82CnoRFbQfzPf</td>\n",
       "      <td>i like the way you kiss me</td>\n",
       "      <td>Artemas</td>\n",
       "      <td>3</td>\n",
       "      <td>0</td>\n",
       "      <td>47</td>\n",
       "      <td>NaN</td>\n",
       "      <td>2024-04-28</td>\n",
       "      <td>100</td>\n",
       "      <td>False</td>\n",
       "      <td>...</td>\n",
       "      <td>11</td>\n",
       "      <td>-4.263</td>\n",
       "      <td>1</td>\n",
       "      <td>0.0447</td>\n",
       "      <td>0.000938</td>\n",
       "      <td>0.010600</td>\n",
       "      <td>0.0826</td>\n",
       "      <td>0.747</td>\n",
       "      <td>151.647</td>\n",
       "      <td>4</td>\n",
       "    </tr>\n",
       "    <tr>\n",
       "      <th>3</th>\n",
       "      <td>6XjDF6nds4DE2BBbagZol6</td>\n",
       "      <td>Gata Only</td>\n",
       "      <td>FloyyMenor, Cris Mj</td>\n",
       "      <td>4</td>\n",
       "      <td>0</td>\n",
       "      <td>46</td>\n",
       "      <td>NaN</td>\n",
       "      <td>2024-04-28</td>\n",
       "      <td>98</td>\n",
       "      <td>True</td>\n",
       "      <td>...</td>\n",
       "      <td>8</td>\n",
       "      <td>-8.472</td>\n",
       "      <td>0</td>\n",
       "      <td>0.0509</td>\n",
       "      <td>0.446000</td>\n",
       "      <td>0.000024</td>\n",
       "      <td>0.0899</td>\n",
       "      <td>0.669</td>\n",
       "      <td>99.986</td>\n",
       "      <td>4</td>\n",
       "    </tr>\n",
       "    <tr>\n",
       "      <th>4</th>\n",
       "      <td>5Z0UnEtpLDQyYlWwgi8m9C</td>\n",
       "      <td>Too Sweet</td>\n",
       "      <td>Hozier</td>\n",
       "      <td>5</td>\n",
       "      <td>1</td>\n",
       "      <td>45</td>\n",
       "      <td>NaN</td>\n",
       "      <td>2024-04-28</td>\n",
       "      <td>89</td>\n",
       "      <td>False</td>\n",
       "      <td>...</td>\n",
       "      <td>10</td>\n",
       "      <td>-5.505</td>\n",
       "      <td>1</td>\n",
       "      <td>0.0412</td>\n",
       "      <td>0.029500</td>\n",
       "      <td>0.000809</td>\n",
       "      <td>0.0398</td>\n",
       "      <td>0.934</td>\n",
       "      <td>117.038</td>\n",
       "      <td>4</td>\n",
       "    </tr>\n",
       "  </tbody>\n",
       "</table>\n",
       "<p>5 rows × 25 columns</p>\n",
       "</div>"
      ],
      "text/plain": [
       "               spotify_id                           name  \\\n",
       "0  2OzhQlSqBEmt7hmkYxfT6m  Fortnight (feat. Post Malone)   \n",
       "1  2qSkIjg1o9h3YT9RAgYN75                       Espresso   \n",
       "2  2GxrNKugF82CnoRFbQfzPf     i like the way you kiss me   \n",
       "3  6XjDF6nds4DE2BBbagZol6                      Gata Only   \n",
       "4  5Z0UnEtpLDQyYlWwgi8m9C                      Too Sweet   \n",
       "\n",
       "                     artists  daily_rank  daily_movement  weekly_movement  \\\n",
       "0  Taylor Swift, Post Malone           1               0               49   \n",
       "1          Sabrina Carpenter           2               0               48   \n",
       "2                    Artemas           3               0               47   \n",
       "3        FloyyMenor, Cris Mj           4               0               46   \n",
       "4                     Hozier           5               1               45   \n",
       "\n",
       "  country snapshot_date  popularity  is_explicit  ...  key loudness mode  \\\n",
       "0     NaN    2024-04-28          93        False  ...   11  -10.895    1   \n",
       "1     NaN    2024-04-28          94         True  ...    0   -5.486    1   \n",
       "2     NaN    2024-04-28         100        False  ...   11   -4.263    1   \n",
       "3     NaN    2024-04-28          98         True  ...    8   -8.472    0   \n",
       "4     NaN    2024-04-28          89        False  ...   10   -5.505    1   \n",
       "\n",
       "   speechiness  acousticness  instrumentalness  liveness  valence    tempo  \\\n",
       "0       0.0245      0.499000          0.000006    0.0939    0.319   95.988   \n",
       "1       0.0293      0.133000          0.000012    0.1970    0.661  103.982   \n",
       "2       0.0447      0.000938          0.010600    0.0826    0.747  151.647   \n",
       "3       0.0509      0.446000          0.000024    0.0899    0.669   99.986   \n",
       "4       0.0412      0.029500          0.000809    0.0398    0.934  117.038   \n",
       "\n",
       "   time_signature  \n",
       "0               4  \n",
       "1               4  \n",
       "2               4  \n",
       "3               4  \n",
       "4               4  \n",
       "\n",
       "[5 rows x 25 columns]"
      ]
     },
     "execution_count": 4,
     "metadata": {},
     "output_type": "execute_result"
    }
   ],
   "source": [
    "spotify = pd.read_csv('/home/hunor/hobby_projects/spotify/data/universal_top_spotify_songs.csv', sep=',')\n",
    "spotify.head()"
   ]
  },
  {
   "cell_type": "markdown",
   "id": "15c6ab65-af62-4715-8f1e-c6223e75cbce",
   "metadata": {},
   "source": [
    "## Separate; Write songlist to csv file (song_list.csv)"
   ]
  },
  {
   "cell_type": "code",
   "execution_count": 6,
   "id": "4cace7f4-3179-470a-bce8-7f791c14bee0",
   "metadata": {},
   "outputs": [],
   "source": [
    "songlist = spotify[['spotify_id', 'name', 'artists', 'album_name', 'album_release_date']]\n",
    "songlist.to_csv('song_list_raw.csv', sep=',', index=False)"
   ]
  },
  {
   "cell_type": "markdown",
   "id": "58628064-f953-4c88-8e73-472945270604",
   "metadata": {},
   "source": [
    "## Separate; Write songdetails to csv file (song_details.csv)"
   ]
  },
  {
   "cell_type": "code",
   "execution_count": 7,
   "id": "dd243e43-454c-48fc-9bab-4864159cedd7",
   "metadata": {},
   "outputs": [],
   "source": [
    "songdetails = spotify[['spotify_id', 'is_explicit', 'duration_ms', 'danceability', 'energy', 'key', 'loudness', 'mode', 'speechiness', 'acousticness', 'instrumentalness', 'liveness', 'valence', 'tempo', 'time_signature']]\n",
    "songdetails.to_csv('song_details_raw.csv', sep=',', index=False)"
   ]
  },
  {
   "cell_type": "markdown",
   "id": "1fdaf2a6-ea96-47d3-9d81-a61cf3a3af41",
   "metadata": {},
   "source": [
    "## Separate; Write songdailyrank to csv file (song_daily_rank.csv)"
   ]
  },
  {
   "cell_type": "code",
   "execution_count": 8,
   "id": "6904f4a5-ebfe-41f5-a885-f77c537156ae",
   "metadata": {},
   "outputs": [],
   "source": [
    "songdailyrank = spotify[['spotify_id', 'daily_rank', 'daily_movement', 'weekly_movement', 'country', 'snapshot_date', 'popularity']]\n",
    "songdailyrank.to_csv('song_daily_rank_raw.csv', sep=',', index=False)"
   ]
  },
  {
   "cell_type": "code",
   "execution_count": null,
   "id": "5523670b-7f39-490e-bf9b-302115d774ae",
   "metadata": {},
   "outputs": [],
   "source": []
  }
 ],
 "metadata": {
  "kernelspec": {
   "display_name": "Python 3 (ipykernel)",
   "language": "python",
   "name": "python3"
  },
  "language_info": {
   "codemirror_mode": {
    "name": "ipython",
    "version": 3
   },
   "file_extension": ".py",
   "mimetype": "text/x-python",
   "name": "python",
   "nbconvert_exporter": "python",
   "pygments_lexer": "ipython3",
   "version": "3.8.10"
  }
 },
 "nbformat": 4,
 "nbformat_minor": 5
}
